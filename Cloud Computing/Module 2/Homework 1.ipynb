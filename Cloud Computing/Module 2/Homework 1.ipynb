{
  "nbformat": 4,
  "nbformat_minor": 0,
  "metadata": {
    "colab": {
      "provenance": []
    },
    "kernelspec": {
      "name": "python3",
      "display_name": "Python 3"
    },
    "language_info": {
      "name": "python"
    }
  },
  "cells": [
    {
      "cell_type": "markdown",
      "source": [
        "Write a program that asks a user to think of a number between 1 and 100.\n",
        "\n",
        "Create a guess function, that guesses a random number between 1 and 100 and asks the user whether it is too high, too low, or correct.\n",
        "\n",
        "Per the instructions, the user should only be able to use \"c\" for correct, \"h\" for too high, and \"l\" for too low, any other entry should be rejected. "
      ],
      "metadata": {
        "id": "O2D9-MnTMAz2"
      }
    },
    {
      "cell_type": "code",
      "source": [
        "print(\"\"\"Please think of a number between\n",
        "one and one hundred. I'll guess\n",
        "your number. You tell me if I'm \n",
        "too high, too low, or correct.\"\"\")"
      ],
      "metadata": {
        "id": "76v2xAcgNVw2"
      },
      "execution_count": null,
      "outputs": []
    },
    {
      "cell_type": "code",
      "source": [
        "KeepGoing=True\n",
        "low = 1\n",
        "high = 100\n",
        "\n",
        "while KeepGoing:\n",
        "    Guess = (low+high)/2\n",
        "    Guess=int(Guess)\n",
        "    print(\"I guess, {}?\".format(Guess))\n",
        "    User = input(\"too (h)igh, too (l)ow, (c)orrect \")\n",
        "    if User==\"h\":\n",
        "        high = Guess\n",
        "    if User==\"l\":\n",
        "        low = Guess\n",
        "    if User==\"c\":\n",
        "        print(\"I got it!\")\n",
        "        KeepGoing=False"
      ],
      "metadata": {
        "id": "Lg6cHLMLNW_Y"
      },
      "execution_count": null,
      "outputs": []
    }
  ]
}