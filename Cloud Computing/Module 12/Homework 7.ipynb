{
  "nbformat": 4,
  "nbformat_minor": 0,
  "metadata": {
    "colab": {
      "provenance": []
    },
    "kernelspec": {
      "name": "python3",
      "display_name": "Python 3"
    },
    "language_info": {
      "name": "python"
    }
  },
  "cells": [
    {
      "cell_type": "code",
      "execution_count": 1,
      "metadata": {
        "id": "T7bWf5uC1d3g"
      },
      "outputs": [],
      "source": [
        "#Step 1: Install Dependencies\n",
        "!apt-get install openjdk-8-jdk-headless -qq > /dev/null\n",
        "!wget -q https://archive.apache.org/dist/spark/spark-3.3.0/spark-3.3.0-bin-hadoop3.tgz\n",
        "!tar xf spark-3.3.0-bin-hadoop3.tgz\n",
        "!pip install -q findspark\n",
        "\n",
        "#Step 2: Add environment variables\n",
        "import os\n",
        "os.environ[\"JAVA_HOME\"] = \"/usr/lib/jvm/java-8-openjdk-amd64\"\n",
        "os.environ[\"SPARK_HOME\"] = \"spark-3.3.0-bin-hadoop3\"\n",
        "os.environ[\"HADOOP_HOME\"] = os.environ[\"SPARK_HOME\"]\n",
        "\n",
        "#these are new enviromental variables\n",
        "os.environ[\"PYSPARK_DRIVER_PYTHON\"] = \"jupyter\"\n",
        "os.environ[\"PYSPARK_DRIVER_PYTHON_OPTS\"] = \"notebook\"\n",
        "os.environ[\"PYSPARK_SUBMIT_ARGS\"] = \"--packages graphframes:graphframes:0.8.1-spark3.0-s_2.12 pyspark-shell\"\n",
        "#Step 3: Initialize Pyspark\n",
        "import findspark\n",
        "findspark.init()"
      ]
    },
    {
      "cell_type": "code",
      "source": [
        "#creating spark context\n",
        "from pyspark.sql import SparkSession\n",
        "spark = SparkSession.builder.master(\"local[*]\").getOrCreate()\n",
        "sc = spark.sparkContext\n",
        "sc"
      ],
      "metadata": {
        "id": "EkTmSYCR14If"
      },
      "execution_count": null,
      "outputs": []
    },
    {
      "cell_type": "code",
      "source": [
        "vertices = spark.createDataFrame([\n",
        "\t\t\t\t    ('A', 350, \"ARON\"), \n",
        "                                  ('B', 360, \"BILL\"),\n",
        "                                  ('C', 195, \"CLAIR\"),\n",
        "                                  ('D', 90, \"DANIEL\"),\n",
        "                                  ('E', 90, \"ERIC\"),\n",
        "                                  ('F', 215, \"FRANK\"),\n",
        "                                  ('G', 30, \"GRAHAM\"),\n",
        "                                  ('H', 25, \"HENRY\"),\n",
        "                                  ('I', 25, \"INNA\"),\n",
        "                                  ('J', 20, \"JEN\")\n",
        "\t\t\t\t   ],['id', 'value', 'name'])"
      ],
      "metadata": {
        "id": "jgAxnHeP2TvT"
      },
      "execution_count": 14,
      "outputs": []
    },
    {
      "cell_type": "code",
      "source": [
        "edges = spark.createDataFrame([\n",
        "\t\t\t\t('A','B',60),\n",
        "\t\t\t\t('B','A',50),\n",
        "\t\t\t\t('A','C',50),\n",
        "\t\t\t\t('C','A',100),\n",
        "\t\t\t\t('A','D',90),\n",
        "\t\t\t\t('C','I',25),\n",
        "        ('C','J',20),\n",
        "        ('B','F',50),\n",
        "        ('F','B',110),\n",
        "        ('F','G',30),\n",
        "        ('F','H',25),\n",
        "        ('B','E',90)\n",
        "\t\t\t     ],['src', 'dst', 'wt'])"
      ],
      "metadata": {
        "id": "BKW4sOoZ2zI9"
      },
      "execution_count": 15,
      "outputs": []
    },
    {
      "cell_type": "code",
      "source": [
        "from graphframes import *\n",
        "g = GraphFrame(vertices, edges)"
      ],
      "metadata": {
        "colab": {
          "base_uri": "https://localhost:8080/"
        },
        "id": "7Jg5FPyq46Fj",
        "outputId": "8ba900ca-ab97-4312-a80b-f428b30164e1"
      },
      "execution_count": 16,
      "outputs": [
        {
          "output_type": "stream",
          "name": "stderr",
          "text": [
            "/content/spark-3.3.0-bin-hadoop3/python/pyspark/sql/dataframe.py:148: UserWarning: DataFrame.sql_ctx is an internal property, and will be removed in future releases. Use DataFrame.sparkSession instead.\n",
            "  warnings.warn(\n"
          ]
        }
      ]
    },
    {
      "cell_type": "code",
      "source": [
        "g.degrees.show()"
      ],
      "metadata": {
        "colab": {
          "base_uri": "https://localhost:8080/"
        },
        "id": "k_-gRC5c6S3h",
        "outputId": "407cf340-4c35-4644-c5f4-8068f1176eff"
      },
      "execution_count": 17,
      "outputs": [
        {
          "output_type": "stream",
          "name": "stderr",
          "text": [
            "/content/spark-3.3.0-bin-hadoop3/python/pyspark/sql/dataframe.py:127: UserWarning: DataFrame constructor is internal. Do not directly use it.\n",
            "  warnings.warn(\"DataFrame constructor is internal. Do not directly use it.\")\n"
          ]
        },
        {
          "output_type": "stream",
          "name": "stdout",
          "text": [
            "+---+------+\n",
            "| id|degree|\n",
            "+---+------+\n",
            "|  B|     5|\n",
            "|  D|     1|\n",
            "|  C|     4|\n",
            "|  A|     5|\n",
            "|  I|     1|\n",
            "|  F|     4|\n",
            "|  E|     1|\n",
            "|  J|     1|\n",
            "|  G|     1|\n",
            "|  H|     1|\n",
            "+---+------+\n",
            "\n"
          ]
        }
      ]
    },
    {
      "cell_type": "code",
      "source": [
        "g.inDegrees.show()"
      ],
      "metadata": {
        "colab": {
          "base_uri": "https://localhost:8080/"
        },
        "id": "bn_M_6w973jA",
        "outputId": "a1a61fe0-4664-400f-9cc0-c0e4e479efbe"
      },
      "execution_count": 18,
      "outputs": [
        {
          "output_type": "stream",
          "name": "stdout",
          "text": [
            "+---+--------+\n",
            "| id|inDegree|\n",
            "+---+--------+\n",
            "|  B|       2|\n",
            "|  D|       1|\n",
            "|  C|       1|\n",
            "|  A|       2|\n",
            "|  I|       1|\n",
            "|  F|       1|\n",
            "|  E|       1|\n",
            "|  J|       1|\n",
            "|  G|       1|\n",
            "|  H|       1|\n",
            "+---+--------+\n",
            "\n"
          ]
        }
      ]
    },
    {
      "cell_type": "code",
      "source": [
        "g.outDegrees.show()"
      ],
      "metadata": {
        "colab": {
          "base_uri": "https://localhost:8080/"
        },
        "id": "qTC_tEKC79Gq",
        "outputId": "3257bae6-113a-4a7b-ed85-88a4d6b999cd"
      },
      "execution_count": 19,
      "outputs": [
        {
          "output_type": "stream",
          "name": "stdout",
          "text": [
            "+---+---------+\n",
            "| id|outDegree|\n",
            "+---+---------+\n",
            "|  B|        3|\n",
            "|  C|        3|\n",
            "|  A|        3|\n",
            "|  F|        3|\n",
            "+---+---------+\n",
            "\n"
          ]
        }
      ]
    },
    {
      "cell_type": "code",
      "source": [
        "g.vertices.show()"
      ],
      "metadata": {
        "colab": {
          "base_uri": "https://localhost:8080/"
        },
        "id": "7j2gXjLy6ZNU",
        "outputId": "ddad557f-2f5a-4c44-8908-f41bf625b05f"
      },
      "execution_count": 20,
      "outputs": [
        {
          "output_type": "stream",
          "name": "stdout",
          "text": [
            "+---+-----+------+\n",
            "| id|value|  name|\n",
            "+---+-----+------+\n",
            "|  A|  350|  ARON|\n",
            "|  B|  360|  BILL|\n",
            "|  C|  195| CLAIR|\n",
            "|  D|   90|DANIEL|\n",
            "|  E|   90|  ERIC|\n",
            "|  F|  215| FRANK|\n",
            "|  G|   30|GRAHAM|\n",
            "|  H|   25| HENRY|\n",
            "|  I|   25|  INNA|\n",
            "|  J|   20|   JEN|\n",
            "+---+-----+------+\n",
            "\n"
          ]
        }
      ]
    },
    {
      "cell_type": "code",
      "source": [
        "g.edges.show()"
      ],
      "metadata": {
        "colab": {
          "base_uri": "https://localhost:8080/"
        },
        "id": "HE5eIY5G6mkZ",
        "outputId": "ea989ade-898a-4dd3-df01-9c3cdf61ec9f"
      },
      "execution_count": 21,
      "outputs": [
        {
          "output_type": "stream",
          "name": "stdout",
          "text": [
            "+---+---+---+\n",
            "|src|dst| wt|\n",
            "+---+---+---+\n",
            "|  A|  B| 60|\n",
            "|  B|  A| 50|\n",
            "|  A|  C| 50|\n",
            "|  C|  A|100|\n",
            "|  A|  D| 90|\n",
            "|  C|  I| 25|\n",
            "|  C|  J| 20|\n",
            "|  B|  F| 50|\n",
            "|  F|  B|110|\n",
            "|  F|  G| 30|\n",
            "|  F|  H| 25|\n",
            "|  B|  E| 90|\n",
            "+---+---+---+\n",
            "\n"
          ]
        }
      ]
    },
    {
      "cell_type": "code",
      "source": [
        "g.shortestPaths(landmarks=[\"A\", \"J\"]).show()"
      ],
      "metadata": {
        "colab": {
          "base_uri": "https://localhost:8080/"
        },
        "id": "wAAcD6KW8Qnq",
        "outputId": "bc7fd7a6-bde3-4cd1-efe9-a276996574dc"
      },
      "execution_count": 22,
      "outputs": [
        {
          "output_type": "stream",
          "name": "stdout",
          "text": [
            "+---+-----+------+----------------+\n",
            "| id|value|  name|       distances|\n",
            "+---+-----+------+----------------+\n",
            "|  F|  215| FRANK|{A -> 2, J -> 4}|\n",
            "|  E|   90|  ERIC|              {}|\n",
            "|  B|  360|  BILL|{A -> 1, J -> 3}|\n",
            "|  D|   90|DANIEL|              {}|\n",
            "|  C|  195| CLAIR|{A -> 1, J -> 1}|\n",
            "|  J|   20|   JEN|        {J -> 0}|\n",
            "|  A|  350|  ARON|{A -> 0, J -> 2}|\n",
            "|  G|   30|GRAHAM|              {}|\n",
            "|  I|   25|  INNA|              {}|\n",
            "|  H|   25| HENRY|              {}|\n",
            "+---+-----+------+----------------+\n",
            "\n"
          ]
        }
      ]
    },
    {
      "cell_type": "code",
      "source": [
        "results = g.shortestPaths(landmarks=[\"A\", \"J\"])\n",
        "results.select(\"name\", \"distances\").show()"
      ],
      "metadata": {
        "colab": {
          "base_uri": "https://localhost:8080/"
        },
        "id": "6y9Qsfd38gNp",
        "outputId": "2723abc4-5223-470a-c330-5b70893a96e0"
      },
      "execution_count": 23,
      "outputs": [
        {
          "output_type": "stream",
          "name": "stdout",
          "text": [
            "+------+----------------+\n",
            "|  name|       distances|\n",
            "+------+----------------+\n",
            "| FRANK|{A -> 2, J -> 4}|\n",
            "|  ERIC|              {}|\n",
            "|  BILL|{A -> 1, J -> 3}|\n",
            "|DANIEL|              {}|\n",
            "| CLAIR|{A -> 1, J -> 1}|\n",
            "|   JEN|        {J -> 0}|\n",
            "|  ARON|{A -> 0, J -> 2}|\n",
            "|GRAHAM|              {}|\n",
            "|  INNA|              {}|\n",
            "| HENRY|              {}|\n",
            "+------+----------------+\n",
            "\n"
          ]
        }
      ]
    }
  ]
}