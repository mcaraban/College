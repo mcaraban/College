{
  "cells": [
    {
      "cell_type": "markdown",
      "metadata": {
        "id": "zW7jCG1bsS1R"
      },
      "source": [
        "# **Homework 4**"
      ]
    },
    {
      "cell_type": "code",
      "source": [
        "#Step 1: Install Dependencies\n",
        "!apt-get install openjdk-8-jdk-headless -qq > /dev/null\n",
        "!wget -q https://archive.apache.org/dist/spark/spark-3.3.0/spark-3.3.0-bin-hadoop3.tgz\n",
        "!tar xf spark-3.3.0-bin-hadoop3.tgz\n",
        "!pip install -q findspark\n",
        "\n",
        "#Step 2: Add environment variables\n",
        "import os\n",
        "os.environ[\"JAVA_HOME\"] = \"/usr/lib/jvm/java-8-openjdk-amd64\"\n",
        "os.environ[\"SPARK_HOME\"] = \"spark-3.3.0-bin-hadoop3\"\n",
        "\n",
        "#Step 3: Initialize Pyspark\n",
        "import findspark\n",
        "findspark.init()"
      ],
      "metadata": {
        "id": "ihZ4Ia_m8bIo"
      },
      "execution_count": 1,
      "outputs": []
    },
    {
      "cell_type": "code",
      "source": [
        "#creating spark context\n",
        "from pyspark.sql import SparkSession\n",
        "spark = SparkSession.builder.master(\"local[*]\").getOrCreate()\n",
        "sc = spark.sparkContext\n",
        "sc"
      ],
      "metadata": {
        "colab": {
          "base_uri": "https://localhost:8080/",
          "height": 196
        },
        "id": "FV0vxCDg8tu_",
        "outputId": "0f0b7c6f-6fc5-4738-9333-c9004066ef81"
      },
      "execution_count": 2,
      "outputs": [
        {
          "output_type": "execute_result",
          "data": {
            "text/plain": [
              "<SparkContext master=local[*] appName=pyspark-shell>"
            ],
            "text/html": [
              "\n",
              "        <div>\n",
              "            <p><b>SparkContext</b></p>\n",
              "\n",
              "            <p><a href=\"http://e71dc9929785:4040\">Spark UI</a></p>\n",
              "\n",
              "            <dl>\n",
              "              <dt>Version</dt>\n",
              "                <dd><code>v3.3.0</code></dd>\n",
              "              <dt>Master</dt>\n",
              "                <dd><code>local[*]</code></dd>\n",
              "              <dt>AppName</dt>\n",
              "                <dd><code>pyspark-shell</code></dd>\n",
              "            </dl>\n",
              "        </div>\n",
              "        "
            ]
          },
          "metadata": {},
          "execution_count": 2
        }
      ]
    },
    {
      "cell_type": "code",
      "source": [
        "df = spark.read.format(\"csv\").option(\"header\", \"true\").load(\"kroger_stock.csv\")"
      ],
      "metadata": {
        "id": "1UBMOGO48xg-"
      },
      "execution_count": 8,
      "outputs": []
    },
    {
      "cell_type": "markdown",
      "metadata": {
        "id": "a34NxDZGsS1X"
      },
      "source": [
        "Let's get some quick practice with your new Spark DataFrame skills, you will be asked some basic questions about some stock market data, in this case Kroger Stock data."
      ]
    },
    {
      "cell_type": "markdown",
      "metadata": {
        "id": "FHKLxThKsS1Z"
      },
      "source": [
        "#### Use the kroger_stock.csv file to Answer and complete the  tasks below!"
      ]
    },
    {
      "cell_type": "markdown",
      "metadata": {
        "id": "T93R46OWsS1d"
      },
      "source": [
        "#### What are the column names?"
      ]
    },
    {
      "cell_type": "code",
      "source": [
        "columns = df.columns\n",
        "print(columns)"
      ],
      "metadata": {
        "colab": {
          "base_uri": "https://localhost:8080/"
        },
        "id": "C3clWyEd92yF",
        "outputId": "8032e8a7-eeee-46ca-9ec7-be626e3edd03"
      },
      "execution_count": 9,
      "outputs": [
        {
          "output_type": "stream",
          "name": "stdout",
          "text": [
            "['Date', 'Open', 'High', 'Low', 'Close', 'Volume', 'Adj Close']\n"
          ]
        }
      ]
    },
    {
      "cell_type": "markdown",
      "metadata": {
        "id": "tJVPR8p-sS1f"
      },
      "source": [
        "#### What does the Schema look like?"
      ]
    },
    {
      "cell_type": "code",
      "execution_count": 10,
      "metadata": {
        "id": "NtS0eLOXsS1g",
        "colab": {
          "base_uri": "https://localhost:8080/"
        },
        "outputId": "3d4314eb-7b5e-412f-c000-8f43a54a32ef"
      },
      "outputs": [
        {
          "output_type": "stream",
          "name": "stdout",
          "text": [
            "root\n",
            " |-- Date: string (nullable = true)\n",
            " |-- Open: string (nullable = true)\n",
            " |-- High: string (nullable = true)\n",
            " |-- Low: string (nullable = true)\n",
            " |-- Close: string (nullable = true)\n",
            " |-- Volume: string (nullable = true)\n",
            " |-- Adj Close: string (nullable = true)\n",
            "\n"
          ]
        }
      ],
      "source": [
        "df.printSchema()"
      ]
    },
    {
      "cell_type": "markdown",
      "metadata": {
        "id": "pmIs0NGasS1h"
      },
      "source": [
        "#### Print out the first 5 columns."
      ]
    },
    {
      "cell_type": "code",
      "execution_count": 11,
      "metadata": {
        "id": "zWVdUTTAsS1i",
        "colab": {
          "base_uri": "https://localhost:8080/"
        },
        "outputId": "90336c7f-bc6d-41f2-f05d-6dde51bdffb1"
      },
      "outputs": [
        {
          "output_type": "stream",
          "name": "stdout",
          "text": [
            "+----------+------------------+---------+---------+------------------+--------+------------------+\n",
            "|      Date|              Open|     High|      Low|             Close|  Volume|         Adj Close|\n",
            "+----------+------------------+---------+---------+------------------+--------+------------------+\n",
            "|2012-01-03|         59.970001|61.060001|59.869999|         60.330002|12668800|52.619234999999996|\n",
            "|2012-01-04|60.209998999999996|60.349998|59.470001|59.709998999999996| 9593300|         52.078475|\n",
            "|2012-01-05|         59.349998|59.619999|58.369999|         59.419998|12768200|         51.825539|\n",
            "|2012-01-06|         59.419998|59.450001|58.869999|              59.0| 8069400|          51.45922|\n",
            "|2012-01-09|         59.029999|59.549999|58.919998|             59.18| 6679300|51.616215000000004|\n",
            "+----------+------------------+---------+---------+------------------+--------+------------------+\n",
            "only showing top 5 rows\n",
            "\n"
          ]
        }
      ],
      "source": [
        "df.show(5)"
      ]
    },
    {
      "cell_type": "markdown",
      "metadata": {
        "id": "u20F2DJ9sS1i"
      },
      "source": [
        "#### Use describe() to learn about the DataFrame."
      ]
    },
    {
      "cell_type": "code",
      "execution_count": 12,
      "metadata": {
        "id": "PcS75VzAsS1j",
        "colab": {
          "base_uri": "https://localhost:8080/"
        },
        "outputId": "bcdc89d4-cb30-4979-ea00-55f30d06ad88"
      },
      "outputs": [
        {
          "output_type": "execute_result",
          "data": {
            "text/plain": [
              "DataFrame[summary: string, Date: string, Open: string, High: string, Low: string, Close: string, Volume: string, Adj Close: string]"
            ]
          },
          "metadata": {},
          "execution_count": 12
        }
      ],
      "source": [
        "df.describe()"
      ]
    },
    {
      "cell_type": "markdown",
      "metadata": {
        "id": "T90QaXPHsS1n"
      },
      "source": [
        "#### Create a new dataframe with a column called HV Ratio that is the ratio of the High Price versus volume of stock traded for a day."
      ]
    },
    {
      "cell_type": "code",
      "execution_count": 30,
      "metadata": {
        "id": "6-Cz0Es9sS1o",
        "colab": {
          "base_uri": "https://localhost:8080/"
        },
        "outputId": "160def28-3229-478b-9c0c-a9ece873c58e"
      },
      "outputs": [
        {
          "output_type": "stream",
          "name": "stdout",
          "text": [
            "+----------+------------------+---------+---------+------------------+---------+------------------+----+--------------------+\n",
            "|      Date|              Open|     High|      Low|             Close|   Volume|         Adj Close|Year|            HV Ratio|\n",
            "+----------+------------------+---------+---------+------------------+---------+------------------+----+--------------------+\n",
            "|2012-01-03|         59.970001|61.060001|59.869999|         60.330002|1.26688E7|52.619234999999996|2012|4.819714653321546E-6|\n",
            "|2012-01-04|60.209998999999996|60.349998|59.470001|59.709998999999996|9593300.0|         52.078475|2012|6.290848613094555E-6|\n",
            "|2012-01-05|         59.349998|59.619999|58.369999|         59.419998|1.27682E7|         51.825539|2012|4.669412994783916E-6|\n",
            "|2012-01-06|         59.419998|59.450001|58.869999|              59.0|8069400.0|          51.45922|2012|7.367338463826307E-6|\n",
            "|2012-01-09|         59.029999|59.549999|58.919998|             59.18|6679300.0|51.616215000000004|2012|8.915604778943901E-6|\n",
            "+----------+------------------+---------+---------+------------------+---------+------------------+----+--------------------+\n",
            "only showing top 5 rows\n",
            "\n"
          ]
        }
      ],
      "source": [
        "hv_ratio_df = df.withColumn(\"HV Ratio\", df[\"High\"] / df[\"Volume\"])\n",
        "hv_ratio_df.show(5)"
      ]
    },
    {
      "cell_type": "markdown",
      "metadata": {
        "id": "zgqJgqsxsS1p"
      },
      "source": [
        "#### What day had the Peak High in Price?"
      ]
    },
    {
      "cell_type": "code",
      "execution_count": 16,
      "metadata": {
        "id": "MfaR2QL3sS1p",
        "colab": {
          "base_uri": "https://localhost:8080/"
        },
        "outputId": "6b671629-4180-49a4-e417-bfdff65dd996"
      },
      "outputs": [
        {
          "output_type": "stream",
          "name": "stdout",
          "text": [
            "2015-01-13\n"
          ]
        }
      ],
      "source": [
        "sorted_df = df.orderBy(df[\"High\"].desc())\n",
        "highest_peak_day = sorted_df.first()\n",
        "print(highest_peak_day[\"Date\"])"
      ]
    },
    {
      "cell_type": "markdown",
      "metadata": {
        "id": "N0znpMlUsS1q"
      },
      "source": [
        "#### What is the mean of the Close column?"
      ]
    },
    {
      "cell_type": "code",
      "execution_count": 17,
      "metadata": {
        "id": "hRbCfce9sS1r",
        "colab": {
          "base_uri": "https://localhost:8080/"
        },
        "outputId": "99ad61a8-0501-44ce-9c76-e8ee384ed7eb"
      },
      "outputs": [
        {
          "output_type": "stream",
          "name": "stdout",
          "text": [
            "72.38844998012726\n"
          ]
        }
      ],
      "source": [
        "mean_close = df.agg({\"Close\": \"mean\"}).collect()[0][0]\n",
        "print(mean_close)"
      ]
    },
    {
      "cell_type": "markdown",
      "metadata": {
        "id": "hK8MR0mYsS1s"
      },
      "source": [
        "#### What is the max and min of the Volume column?"
      ]
    },
    {
      "cell_type": "code",
      "execution_count": 19,
      "metadata": {
        "collapsed": true,
        "id": "Un2nI92-sS1s",
        "colab": {
          "base_uri": "https://localhost:8080/"
        },
        "outputId": "48c871b0-00d8-4dae-93c3-a825679de875"
      },
      "outputs": [
        {
          "output_type": "stream",
          "name": "stdout",
          "text": [
            "The max Volume is 80898100.0 and the min Volume is 2094900.0\n"
          ]
        }
      ],
      "source": [
        "df = df.withColumn(\"Volume\", df[\"Volume\"].cast(\"double\"))\n",
        "max_volume = df.agg({\"Volume\": \"max\"}).collect()[0][0]\n",
        "min_volume = df.agg({\"Volume\": \"min\"}).collect()[0][0]\n",
        "print(\"The max Volume is\", max_volume, \"and the min Volume is\", min_volume)"
      ]
    },
    {
      "cell_type": "markdown",
      "metadata": {
        "id": "UBcMyZGhsS1u"
      },
      "source": [
        "#### How many days was the Close lower than 60 dollars?"
      ]
    },
    {
      "cell_type": "code",
      "execution_count": 20,
      "metadata": {
        "id": "rFkkHJgksS1u",
        "colab": {
          "base_uri": "https://localhost:8080/"
        },
        "outputId": "2f81dede-6b9d-4cd8-9b9b-99e15bee9612"
      },
      "outputs": [
        {
          "output_type": "stream",
          "name": "stdout",
          "text": [
            "81\n"
          ]
        }
      ],
      "source": [
        "filtered_df = df.filter(df.Close < 60)\n",
        "num_days = filtered_df.count()\n",
        "print(num_days)"
      ]
    },
    {
      "cell_type": "markdown",
      "metadata": {
        "id": "UunilqsrsS1v"
      },
      "source": [
        "#### What percentage of the time was the High greater than 80 dollars ?\n",
        "#### In other words, (Number of Days High>80)/(Total Days in the dataset)"
      ]
    },
    {
      "cell_type": "code",
      "execution_count": 21,
      "metadata": {
        "id": "fsj5EdQXsS1v",
        "colab": {
          "base_uri": "https://localhost:8080/"
        },
        "outputId": "ccd154b6-0c8f-43dd-f58e-bcc05ba815b0"
      },
      "outputs": [
        {
          "output_type": "stream",
          "name": "stdout",
          "text": [
            "8.426073131955485\n"
          ]
        }
      ],
      "source": [
        "num_high = df.filter(df.High > 80).count()\n",
        "total_days = df.count()\n",
        "percentage_high = (num_high / total_days) * 100\n",
        "print(percentage_high)"
      ]
    },
    {
      "cell_type": "markdown",
      "metadata": {
        "id": "6vKVxDQ4sS1x"
      },
      "source": [
        "#### What is the max High per year?"
      ]
    },
    {
      "cell_type": "code",
      "execution_count": 22,
      "metadata": {
        "id": "nxZqDm7-sS1y",
        "colab": {
          "base_uri": "https://localhost:8080/"
        },
        "outputId": "5ee5c23a-2f74-489c-e525-5084aebb307c"
      },
      "outputs": [
        {
          "output_type": "stream",
          "name": "stdout",
          "text": [
            "+----+---------+\n",
            "|Year|max(High)|\n",
            "+----+---------+\n",
            "|2012|77.599998|\n",
            "|2013|81.370003|\n",
            "|2014|88.089996|\n",
            "|2015|90.970001|\n",
            "|2016|75.190002|\n",
            "+----+---------+\n",
            "\n"
          ]
        }
      ],
      "source": [
        "df = df.withColumn(\"Year\", df.Date.substr(1, 4))\n",
        "max_high_per_year = df.groupBy(\"Year\").agg({\"High\": \"max\"})\n",
        "max_high_per_year.show()"
      ]
    },
    {
      "cell_type": "markdown",
      "metadata": {
        "id": "0_2vI0btsS1z"
      },
      "source": [
        "#### What is the average Close for each Calendar Month?\n",
        "#### In other words, across all the years, what is the average Close price for Jan,Feb, Mar, etc... Your result will have a value for each of these months. "
      ]
    },
    {
      "cell_type": "code",
      "execution_count": 27,
      "metadata": {
        "id": "82fUGqJ8sS10",
        "colab": {
          "base_uri": "https://localhost:8080/"
        },
        "outputId": "0296fb1a-fe65-41eb-c6a6-6a102a41dca5"
      },
      "outputs": [
        {
          "output_type": "stream",
          "name": "stdout",
          "text": [
            "+-----+-----------------+\n",
            "|Month|       avg(Close)|\n",
            "+-----+-----------------+\n",
            "|   01|71.44801958415842|\n",
            "|   02|  71.306804443299|\n",
            "|   03|71.77794377570092|\n",
            "|   04|72.97361900952382|\n",
            "|   05|72.30971688679247|\n",
            "|   06| 72.4953774245283|\n",
            "|   07|74.43971943925233|\n",
            "|   08|73.02981855454546|\n",
            "|   09|72.18411785294116|\n",
            "|   10|71.57854545454543|\n",
            "|   11| 72.1110893069307|\n",
            "|   12|72.84792478301885|\n",
            "+-----+-----------------+\n",
            "\n"
          ]
        }
      ],
      "source": [
        "df_with_month = df.withColumn('Month', df['Date'].substr(6, 2))\n",
        "avg_close_by_month = df_with_month.groupBy('Month').agg({'Close': 'mean'}).orderBy('Month')\n",
        "avg_close_by_month.show()\n"
      ]
    }
  ],
  "metadata": {
    "anaconda-cloud": {},
    "kernelspec": {
      "display_name": "Python [conda root]",
      "language": "python",
      "name": "conda-root-py"
    },
    "language_info": {
      "codemirror_mode": {
        "name": "ipython",
        "version": 3
      },
      "file_extension": ".py",
      "mimetype": "text/x-python",
      "name": "python",
      "nbconvert_exporter": "python",
      "pygments_lexer": "ipython3",
      "version": "3.5.3"
    },
    "colab": {
      "provenance": []
    }
  },
  "nbformat": 4,
  "nbformat_minor": 0
}