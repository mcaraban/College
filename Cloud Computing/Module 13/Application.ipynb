{
  "nbformat": 4,
  "nbformat_minor": 0,
  "metadata": {
    "colab": {
      "provenance": []
    },
    "kernelspec": {
      "name": "python3",
      "display_name": "Python 3"
    },
    "language_info": {
      "name": "python"
    }
  },
  "cells": [
    {
      "cell_type": "code",
      "execution_count": 1,
      "metadata": {
        "id": "8mPNS9BDiB98"
      },
      "outputs": [],
      "source": [
        "#Step 1: Install Dependencies\n",
        "!apt-get install openjdk-8-jdk-headless -qq > /dev/null\n",
        "!wget -q https://archive.apache.org/dist/spark/spark-3.3.0/spark-3.3.0-bin-hadoop3.tgz\n",
        "!tar xf spark-3.3.0-bin-hadoop3.tgz\n",
        "!pip install -q findspark\n",
        "\n",
        "#Step 2: Add environment variables\n",
        "import os\n",
        "os.environ[\"JAVA_HOME\"] = \"/usr/lib/jvm/java-8-openjdk-amd64\"\n",
        "os.environ[\"SPARK_HOME\"] = \"spark-3.3.0-bin-hadoop3\"\n",
        "\n",
        "#Step 3: Initialize Pyspark\n",
        "import findspark\n",
        "findspark.init()"
      ]
    },
    {
      "cell_type": "code",
      "source": [
        "#creating spark context\n",
        "from pyspark.sql import SparkSession\n",
        "spark = SparkSession.builder.master(\"local[*]\").getOrCreate()\n",
        "sc = spark.sparkContext\n",
        "sc"
      ],
      "metadata": {
        "colab": {
          "base_uri": "https://localhost:8080/",
          "height": 196
        },
        "id": "jihkjSDki3An",
        "outputId": "1614df94-3957-4974-c72d-263ab83dfc36"
      },
      "execution_count": 2,
      "outputs": [
        {
          "output_type": "execute_result",
          "data": {
            "text/plain": [
              "<SparkContext master=local[*] appName=pyspark-shell>"
            ],
            "text/html": [
              "\n",
              "        <div>\n",
              "            <p><b>SparkContext</b></p>\n",
              "\n",
              "            <p><a href=\"http://92f8426e56c2:4040\">Spark UI</a></p>\n",
              "\n",
              "            <dl>\n",
              "              <dt>Version</dt>\n",
              "                <dd><code>v3.3.0</code></dd>\n",
              "              <dt>Master</dt>\n",
              "                <dd><code>local[*]</code></dd>\n",
              "              <dt>AppName</dt>\n",
              "                <dd><code>pyspark-shell</code></dd>\n",
              "            </dl>\n",
              "        </div>\n",
              "        "
            ]
          },
          "metadata": {},
          "execution_count": 2
        }
      ]
    },
    {
      "cell_type": "code",
      "source": [
        "from pyspark.sql.functions import year, avg, desc, lead, col, abs, count, sum\n",
        "from pyspark.sql.window import Window"
      ],
      "metadata": {
        "id": "vZY_B6bqnLxB"
      },
      "execution_count": 145,
      "outputs": []
    },
    {
      "cell_type": "code",
      "source": [
        "from google.colab import files\n",
        "uploaded = files.upload()"
      ],
      "metadata": {
        "colab": {
          "base_uri": "https://localhost:8080/",
          "height": 142
        },
        "id": "T74AS8zvjHzA",
        "outputId": "88c6ab16-6e1d-4e5a-c109-5c365858d469"
      },
      "execution_count": 146,
      "outputs": [
        {
          "output_type": "display_data",
          "data": {
            "text/plain": [
              "<IPython.core.display.HTML object>"
            ],
            "text/html": [
              "\n",
              "     <input type=\"file\" id=\"files-43a5b334-b58a-49bc-8dd6-adcb03b1ae43\" name=\"files[]\" multiple disabled\n",
              "        style=\"border:none\" />\n",
              "     <output id=\"result-43a5b334-b58a-49bc-8dd6-adcb03b1ae43\">\n",
              "      Upload widget is only available when the cell has been executed in the\n",
              "      current browser session. Please rerun this cell to enable.\n",
              "      </output>\n",
              "      <script>// Copyright 2017 Google LLC\n",
              "//\n",
              "// Licensed under the Apache License, Version 2.0 (the \"License\");\n",
              "// you may not use this file except in compliance with the License.\n",
              "// You may obtain a copy of the License at\n",
              "//\n",
              "//      http://www.apache.org/licenses/LICENSE-2.0\n",
              "//\n",
              "// Unless required by applicable law or agreed to in writing, software\n",
              "// distributed under the License is distributed on an \"AS IS\" BASIS,\n",
              "// WITHOUT WARRANTIES OR CONDITIONS OF ANY KIND, either express or implied.\n",
              "// See the License for the specific language governing permissions and\n",
              "// limitations under the License.\n",
              "\n",
              "/**\n",
              " * @fileoverview Helpers for google.colab Python module.\n",
              " */\n",
              "(function(scope) {\n",
              "function span(text, styleAttributes = {}) {\n",
              "  const element = document.createElement('span');\n",
              "  element.textContent = text;\n",
              "  for (const key of Object.keys(styleAttributes)) {\n",
              "    element.style[key] = styleAttributes[key];\n",
              "  }\n",
              "  return element;\n",
              "}\n",
              "\n",
              "// Max number of bytes which will be uploaded at a time.\n",
              "const MAX_PAYLOAD_SIZE = 100 * 1024;\n",
              "\n",
              "function _uploadFiles(inputId, outputId) {\n",
              "  const steps = uploadFilesStep(inputId, outputId);\n",
              "  const outputElement = document.getElementById(outputId);\n",
              "  // Cache steps on the outputElement to make it available for the next call\n",
              "  // to uploadFilesContinue from Python.\n",
              "  outputElement.steps = steps;\n",
              "\n",
              "  return _uploadFilesContinue(outputId);\n",
              "}\n",
              "\n",
              "// This is roughly an async generator (not supported in the browser yet),\n",
              "// where there are multiple asynchronous steps and the Python side is going\n",
              "// to poll for completion of each step.\n",
              "// This uses a Promise to block the python side on completion of each step,\n",
              "// then passes the result of the previous step as the input to the next step.\n",
              "function _uploadFilesContinue(outputId) {\n",
              "  const outputElement = document.getElementById(outputId);\n",
              "  const steps = outputElement.steps;\n",
              "\n",
              "  const next = steps.next(outputElement.lastPromiseValue);\n",
              "  return Promise.resolve(next.value.promise).then((value) => {\n",
              "    // Cache the last promise value to make it available to the next\n",
              "    // step of the generator.\n",
              "    outputElement.lastPromiseValue = value;\n",
              "    return next.value.response;\n",
              "  });\n",
              "}\n",
              "\n",
              "/**\n",
              " * Generator function which is called between each async step of the upload\n",
              " * process.\n",
              " * @param {string} inputId Element ID of the input file picker element.\n",
              " * @param {string} outputId Element ID of the output display.\n",
              " * @return {!Iterable<!Object>} Iterable of next steps.\n",
              " */\n",
              "function* uploadFilesStep(inputId, outputId) {\n",
              "  const inputElement = document.getElementById(inputId);\n",
              "  inputElement.disabled = false;\n",
              "\n",
              "  const outputElement = document.getElementById(outputId);\n",
              "  outputElement.innerHTML = '';\n",
              "\n",
              "  const pickedPromise = new Promise((resolve) => {\n",
              "    inputElement.addEventListener('change', (e) => {\n",
              "      resolve(e.target.files);\n",
              "    });\n",
              "  });\n",
              "\n",
              "  const cancel = document.createElement('button');\n",
              "  inputElement.parentElement.appendChild(cancel);\n",
              "  cancel.textContent = 'Cancel upload';\n",
              "  const cancelPromise = new Promise((resolve) => {\n",
              "    cancel.onclick = () => {\n",
              "      resolve(null);\n",
              "    };\n",
              "  });\n",
              "\n",
              "  // Wait for the user to pick the files.\n",
              "  const files = yield {\n",
              "    promise: Promise.race([pickedPromise, cancelPromise]),\n",
              "    response: {\n",
              "      action: 'starting',\n",
              "    }\n",
              "  };\n",
              "\n",
              "  cancel.remove();\n",
              "\n",
              "  // Disable the input element since further picks are not allowed.\n",
              "  inputElement.disabled = true;\n",
              "\n",
              "  if (!files) {\n",
              "    return {\n",
              "      response: {\n",
              "        action: 'complete',\n",
              "      }\n",
              "    };\n",
              "  }\n",
              "\n",
              "  for (const file of files) {\n",
              "    const li = document.createElement('li');\n",
              "    li.append(span(file.name, {fontWeight: 'bold'}));\n",
              "    li.append(span(\n",
              "        `(${file.type || 'n/a'}) - ${file.size} bytes, ` +\n",
              "        `last modified: ${\n",
              "            file.lastModifiedDate ? file.lastModifiedDate.toLocaleDateString() :\n",
              "                                    'n/a'} - `));\n",
              "    const percent = span('0% done');\n",
              "    li.appendChild(percent);\n",
              "\n",
              "    outputElement.appendChild(li);\n",
              "\n",
              "    const fileDataPromise = new Promise((resolve) => {\n",
              "      const reader = new FileReader();\n",
              "      reader.onload = (e) => {\n",
              "        resolve(e.target.result);\n",
              "      };\n",
              "      reader.readAsArrayBuffer(file);\n",
              "    });\n",
              "    // Wait for the data to be ready.\n",
              "    let fileData = yield {\n",
              "      promise: fileDataPromise,\n",
              "      response: {\n",
              "        action: 'continue',\n",
              "      }\n",
              "    };\n",
              "\n",
              "    // Use a chunked sending to avoid message size limits. See b/62115660.\n",
              "    let position = 0;\n",
              "    do {\n",
              "      const length = Math.min(fileData.byteLength - position, MAX_PAYLOAD_SIZE);\n",
              "      const chunk = new Uint8Array(fileData, position, length);\n",
              "      position += length;\n",
              "\n",
              "      const base64 = btoa(String.fromCharCode.apply(null, chunk));\n",
              "      yield {\n",
              "        response: {\n",
              "          action: 'append',\n",
              "          file: file.name,\n",
              "          data: base64,\n",
              "        },\n",
              "      };\n",
              "\n",
              "      let percentDone = fileData.byteLength === 0 ?\n",
              "          100 :\n",
              "          Math.round((position / fileData.byteLength) * 100);\n",
              "      percent.textContent = `${percentDone}% done`;\n",
              "\n",
              "    } while (position < fileData.byteLength);\n",
              "  }\n",
              "\n",
              "  // All done.\n",
              "  yield {\n",
              "    response: {\n",
              "      action: 'complete',\n",
              "    }\n",
              "  };\n",
              "}\n",
              "\n",
              "scope.google = scope.google || {};\n",
              "scope.google.colab = scope.google.colab || {};\n",
              "scope.google.colab._files = {\n",
              "  _uploadFiles,\n",
              "  _uploadFilesContinue,\n",
              "};\n",
              "})(self);\n",
              "</script> "
            ]
          },
          "metadata": {}
        },
        {
          "output_type": "stream",
          "name": "stdout",
          "text": [
            "Saving WALMART.csv to WALMART (1).csv\n",
            "Saving TESLA.csv to TESLA (1).csv\n",
            "Saving AMAZON.csv to AMAZON (1).csv\n"
          ]
        }
      ]
    },
    {
      "cell_type": "code",
      "source": [
        "WAL = spark.read.csv(\"WALMART.csv\",inferSchema=True,header=True)"
      ],
      "metadata": {
        "id": "Abvg6jckjgsR"
      },
      "execution_count": 147,
      "outputs": []
    },
    {
      "cell_type": "code",
      "source": [
        "TSLA = spark.read.csv(\"TESLA.csv\",inferSchema=True,header=True)"
      ],
      "metadata": {
        "id": "gPPmpSgBkVua"
      },
      "execution_count": 148,
      "outputs": []
    },
    {
      "cell_type": "code",
      "source": [
        "AMZN = spark.read.csv(\"AMAZON.csv\",inferSchema=True,header=True)"
      ],
      "metadata": {
        "id": "NlSj6eD0kgHq"
      },
      "execution_count": 149,
      "outputs": []
    },
    {
      "cell_type": "code",
      "source": [
        "WAL = WAL.withColumn(\"Year\", WAL[\"Date\"].substr(-4, 4))\n",
        "avg_close_by_year_WAL = WAL.groupBy(\"Year\") \\\n",
        "                                .agg(avg(\"Close\").alias(\"avg_close\")) \\\n",
        "                                .orderBy(\"Year\")\n",
        "print(\"Walmart\")\n",
        "avg_close_by_year_WAL.show()\n",
        "\n",
        "TSLA = TSLA.withColumn(\"Year\", TSLA[\"Date\"].substr(-4, 4))\n",
        "avg_close_by_year_TSLA = TSLA.groupBy(\"Year\") \\\n",
        "                                .agg(avg(\"Close\").alias(\"avg_close\")) \\\n",
        "                                .orderBy(\"Year\")\n",
        "print(\"Tesla\")\n",
        "avg_close_by_year_TSLA.show()\n",
        "\n",
        "\n",
        "AMZN = AMZN.withColumn(\"Year\", AMZN[\"Date\"].substr(-4, 4))\n",
        "avg_close_by_year_AMZN = AMZN.groupBy(\"Year\") \\\n",
        "                                .agg(avg(\"Close\").alias(\"avg_close\")) \\\n",
        "                                .orderBy(\"Year\")\n",
        "print(\"Amazon\")\n",
        "avg_close_by_year_AMZN.show()\n"
      ],
      "metadata": {
        "colab": {
          "base_uri": "https://localhost:8080/"
        },
        "id": "8tCi7_pBkol5",
        "outputId": "af2a6006-835d-418c-a610-518fed70f66c"
      },
      "execution_count": 150,
      "outputs": [
        {
          "output_type": "stream",
          "name": "stdout",
          "text": [
            "Walmart\n",
            "+----+------------------+\n",
            "|Year|         avg_close|\n",
            "+----+------------------+\n",
            "|2012| 69.16402062371135|\n",
            "|2013| 75.32051611904767|\n",
            "|2014| 77.32738088888888|\n",
            "|2015| 72.49111121825403|\n",
            "|2016| 69.54706346825398|\n",
            "|2017| 78.96239064940241|\n",
            "|2018| 92.36984045418325|\n",
            "|2019|108.40555563888886|\n",
            "|2020|129.60134389328064|\n",
            "|2021|141.65138907142858|\n",
            "|2022|140.29105385964917|\n",
            "+----+------------------+\n",
            "\n",
            "Tesla\n",
            "+----+------------------+\n",
            "|Year|         avg_close|\n",
            "+----+------------------+\n",
            "|2012| 6.220257731958759|\n",
            "|2013| 20.88024604365079|\n",
            "|2014|  44.6658174126984|\n",
            "|2015| 46.00857951587299|\n",
            "|2016| 41.95345246428568|\n",
            "|2017| 62.86325898406372|\n",
            "|2018| 63.46198399999996|\n",
            "|2019|54.706039706349195|\n",
            "|2020|289.99706688142294|\n",
            "|2021| 779.9944821031743|\n",
            "|2022| 922.0924522280702|\n",
            "+----+------------------+\n",
            "\n",
            "Amazon\n",
            "+----+------------------+\n",
            "|Year|         avg_close|\n",
            "+----+------------------+\n",
            "|2012|230.68232002061865|\n",
            "|2013|298.03158778968253|\n",
            "|2014|332.55103267857135|\n",
            "|2015| 478.1382951269842|\n",
            "|2016| 699.5231348611112|\n",
            "|2017| 968.1670116454185|\n",
            "|2018|1641.7261758486059|\n",
            "|2019|1789.1892060634925|\n",
            "|2020|2680.8550957707507|\n",
            "|2021|3343.8669820753944|\n",
            "|2022|3069.3273883157894|\n",
            "+----+------------------+\n",
            "\n"
          ]
        }
      ]
    },
    {
      "cell_type": "code",
      "source": [
        "windowSpec = Window.orderBy(\"Date\")\n",
        "AMZN_next_day = AMZN.withColumn(\"next_close\", lead(\"Close\", 1).over(windowSpec))\n",
        "AMZN = AMZN_next_day.withColumn(\"close_diff\", col(\"next_close\") - col(\"Close\"))\n",
        "result = AMZN.filter(abs(col(\"close_diff\")) > 2).orderBy(\"Year\",\"Date\")\n",
        "result.show()"
      ],
      "metadata": {
        "colab": {
          "base_uri": "https://localhost:8080/"
        },
        "id": "BfsqsgT9sJPo",
        "outputId": "6679c001-7fb9-4b73-8b21-3ca5c0d9df29"
      },
      "execution_count": 151,
      "outputs": [
        {
          "output_type": "stream",
          "name": "stdout",
          "text": [
            "+----------+----------+----------+----------+----------+----------+--------+----+----------+------------------+\n",
            "|      Date|      Open|      High|       Low|     Close| Adj Close|  Volume|Year|next_close|        close_diff|\n",
            "+----------+----------+----------+----------+----------+----------+--------+----+----------+------------------+\n",
            "| 10/1/2012|255.399994|256.160004|250.490005|252.009995|252.009995| 2581200|2012|320.950012| 68.94001700000001|\n",
            "|10/10/2012|     252.0|252.460007|244.009995|244.990005|244.990005| 3948300|2012|305.170013| 60.18000799999999|\n",
            "|10/11/2012|     248.0|249.300003|241.889999|244.220001|244.220001| 3447300|2012|310.890015| 66.67001400000001|\n",
            "|10/12/2012|243.179993|245.460007|241.910004|242.360001|242.360001| 2203200|2012|550.190002|307.83000100000004|\n",
            "|10/15/2012|242.850006|244.779999|238.509995|244.179993|244.179993| 2959800|2012|306.399994|62.220000999999996|\n",
            "|10/16/2012|244.869995|245.770004|242.080002|243.940002|243.940002| 2204100|2012| 310.48999| 66.54998799999998|\n",
            "|10/17/2012|243.369995|248.800003|243.300003|247.490005|247.490005| 3302700|2012|310.769989| 63.27998400000001|\n",
            "|10/18/2012|247.770004|250.910004|242.699997|244.850006|244.850006| 5305300|2012|328.929993| 84.07998700000002|\n",
            "|10/19/2012|245.160004|246.820007|238.940002|     240.0|     240.0| 4395300|2012|573.150024|333.15002400000003|\n",
            "| 10/2/2012|252.800003|253.149994|249.029999|250.600006|250.600006| 2195800|2012| 320.51001| 69.91000400000001|\n",
            "|10/22/2012|238.809998|238.949997|232.320007|233.779999|233.779999| 4500000|2012|332.540009|          98.76001|\n",
            "|10/23/2012|231.050003|     236.5|230.009995|234.309998|234.309998| 4430800|2012| 326.76001| 92.45001200000002|\n",
            "|10/24/2012|235.880005|235.940002|227.949997|228.490005|228.490005| 3678700|2012|332.209991|        103.719986|\n",
            "|10/25/2012|230.919998|230.919998|222.919998|222.919998|222.919998| 6741300|2012|363.390015|        140.470017|\n",
            "|10/26/2012|228.600006|238.710007|226.690002|238.240005|238.240005|11367500|2012|608.609985|370.36998000000006|\n",
            "| 10/3/2012|251.210007|256.100006|249.559998|255.919998|255.919998| 2745600|2012| 314.76001| 58.84001200000003|\n",
            "|10/31/2012|236.320007|238.699997|     230.5|232.889999|232.889999| 4797600|2012|364.029999|            131.14|\n",
            "| 10/4/2012| 256.01001|261.519989|255.869995|260.470001|260.470001| 2700400|2012|319.040009| 58.57000799999997|\n",
            "| 10/5/2012|261.200012|261.899994| 257.48999| 258.51001| 258.51001| 2806500|2012|543.679993|285.16998299999995|\n",
            "| 10/8/2012|257.670013|259.799988|255.559998|259.059998|259.059998| 1762300|2012|303.230011| 44.17001299999998|\n",
            "+----------+----------+----------+----------+----------+----------+--------+----+----------+------------------+\n",
            "only showing top 20 rows\n",
            "\n"
          ]
        }
      ]
    },
    {
      "cell_type": "code",
      "source": [
        "WAL = WAL.orderBy(desc(\"High\"))\n",
        "highest_price_day_WAL = WAL.first()\n",
        "print(\"Highest price day for Walmart\", highest_price_day_WAL[\"Date\"])\n",
        "\n",
        "TSLA = TSLA.orderBy(desc(\"High\"))\n",
        "highest_price_day_TSLA = TSLA.first()\n",
        "print(\"Highest price day for Tesla\", highest_price_day_TSLA[\"Date\"])\n",
        "\n",
        "AMZN = AMZN.orderBy(desc(\"High\"))\n",
        "highest_price_day_AMZN = AMZN.first()\n",
        "print(\"Highest price day for Amazon\", highest_price_day_AMZN[\"Date\"])\n"
      ],
      "metadata": {
        "colab": {
          "base_uri": "https://localhost:8080/"
        },
        "id": "GKlaPT33xBx5",
        "outputId": "49d0f98e-8421-44fe-e7f9-ca9f6d781b4a"
      },
      "execution_count": 152,
      "outputs": [
        {
          "output_type": "stream",
          "name": "stdout",
          "text": [
            "Highest price day for Walmart 12/1/2020\n",
            "Highest price day for Tesla 11/4/2021\n",
            "Highest price day for Amazon 7/13/2021\n"
          ]
        }
      ]
    },
    {
      "cell_type": "code",
      "source": [
        "filtered_WAL = WAL.filter(WAL.Close < 50)\n",
        "num_days_WAL = filtered_WAL.count()\n",
        "print(\"Number of days below $50 for Walmart:\",num_days_WAL)\n",
        "\n",
        "filtered_TSLA = TSLA.filter(TSLA.Close < 50)\n",
        "num_days_TSLA = filtered_TSLA.count()\n",
        "print(\"Number of days below $50 for Tesla:\",num_days_TSLA)\n",
        "\n",
        "filtered_AMZN = AMZN.filter(AMZN.Close < 50)\n",
        "num_days_AMZN = filtered_AMZN.count()\n",
        "print(\"Number of days below $50 for Amazon:\",num_days_AMZN)\n"
      ],
      "metadata": {
        "colab": {
          "base_uri": "https://localhost:8080/"
        },
        "id": "JcRcPDmOzc75",
        "outputId": "f7112aa0-4605-4814-f92b-4fd7e7503892"
      },
      "execution_count": 153,
      "outputs": [
        {
          "output_type": "stream",
          "name": "stdout",
          "text": [
            "Number of days below $50 for Walmart: 0\n",
            "Number of days below $50 for Tesla: 1213\n",
            "Number of days below $50 for Amazon: 0\n"
          ]
        }
      ]
    },
    {
      "cell_type": "code",
      "source": [
        "WAL = WAL.withColumn(\"Year\", WAL.Date.substr(-4, 4))\n",
        "max_high_per_year_WAL = WAL.groupBy(\"Year\").agg({\"High\": \"max\"}).orderBy(\"Year\")\n",
        "print(\"Walmart\")\n",
        "max_high_per_year_WAL.show()\n",
        "\n",
        "TSLA = TSLA.withColumn(\"Year\", TSLA.Date.substr(-4, 4))\n",
        "max_high_per_year_TSLA = TSLA.groupBy(\"Year\").agg({\"High\": \"max\"}).orderBy(\"Year\")\n",
        "print(\"Tesla\")\n",
        "max_high_per_year_TSLA.show()\n",
        "\n",
        "AMZN = AMZN.withColumn(\"Year\", AMZN.Date.substr(-4, 4))\n",
        "max_high_per_year_AMZN = AMZN.groupBy(\"Year\").agg({\"High\": \"max\"}).orderBy(\"Year\")\n",
        "print(\"Amazon\")\n",
        "max_high_per_year_AMZN.show()\n"
      ],
      "metadata": {
        "colab": {
          "base_uri": "https://localhost:8080/"
        },
        "id": "9vXoZbjR9QvJ",
        "outputId": "f89808da-eb4b-430f-ec41-072ae16f40cc"
      },
      "execution_count": 154,
      "outputs": [
        {
          "output_type": "stream",
          "name": "stdout",
          "text": [
            "Walmart\n",
            "+----+----------+\n",
            "|Year| max(High)|\n",
            "+----+----------+\n",
            "|2012| 77.599998|\n",
            "|2013| 81.370003|\n",
            "|2014| 88.089996|\n",
            "|2015| 90.970001|\n",
            "|2016| 75.190002|\n",
            "|2017|100.129997|\n",
            "|2018|109.980003|\n",
            "|2019|125.379997|\n",
            "|2020|153.660004|\n",
            "|2021|152.570007|\n",
            "|2022|147.289993|\n",
            "+----+----------+\n",
            "\n",
            "Tesla\n",
            "+----+----------+\n",
            "|Year| max(High)|\n",
            "+----+----------+\n",
            "|2012|      7.99|\n",
            "|2013| 38.900002|\n",
            "|2014|    58.284|\n",
            "|2015| 57.330002|\n",
            "|2016|    53.868|\n",
            "|2017| 77.921997|\n",
            "|2018| 77.491997|\n",
            "|2019| 87.061996|\n",
            "|2020|718.719971|\n",
            "|2021|1243.48999|\n",
            "|2022|    1208.0|\n",
            "+----+----------+\n",
            "\n",
            "Amazon\n",
            "+----+-----------+\n",
            "|Year|  max(High)|\n",
            "+----+-----------+\n",
            "|2012| 264.109985|\n",
            "|2013| 405.630005|\n",
            "|2014| 408.059998|\n",
            "|2015| 696.440002|\n",
            "|2016| 847.210022|\n",
            "|2017|1213.410034|\n",
            "|2018|     2050.5|\n",
            "|2019|2035.800049|\n",
            "|2020|    3552.25|\n",
            "|2021|3773.080078|\n",
            "|2022|     3428.0|\n",
            "+----+-----------+\n",
            "\n"
          ]
        }
      ]
    }
  ]
}