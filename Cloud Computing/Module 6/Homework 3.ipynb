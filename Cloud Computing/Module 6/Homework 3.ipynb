{
  "nbformat": 4,
  "nbformat_minor": 0,
  "metadata": {
    "colab": {
      "provenance": []
    },
    "kernelspec": {
      "name": "python3",
      "display_name": "Python 3"
    },
    "language_info": {
      "name": "python"
    }
  },
  "cells": [
    {
      "cell_type": "code",
      "source": [
        "from google.colab import drive\n",
        "drive.mount('/content/drive')"
      ],
      "metadata": {
        "colab": {
          "base_uri": "https://localhost:8080/"
        },
        "id": "Z9b6v3C-hDUF",
        "outputId": "20e9905a-4a43-4837-a14b-1f0350dee67c"
      },
      "execution_count": 9,
      "outputs": [
        {
          "output_type": "stream",
          "name": "stdout",
          "text": [
            "Drive already mounted at /content/drive; to attempt to forcibly remount, call drive.mount(\"/content/drive\", force_remount=True).\n"
          ]
        }
      ]
    },
    {
      "cell_type": "code",
      "execution_count": 7,
      "metadata": {
        "id": "ulRwDMI7gF83"
      },
      "outputs": [],
      "source": [
        "!apt-get install openjdk-8-jdk-headless -qq > /dev/null\n",
        "!wget -q https://archive.apache.org/dist/spark/spark-3.3.0/spark-3.3.0-bin-hadoop3.tgz\n",
        "!tar xf spark-3.3.0-bin-hadoop3.tgz\n",
        "!pip install -q findspark"
      ]
    },
    {
      "cell_type": "code",
      "source": [
        "import os\n",
        "os.environ[\"JAVA_HOME\"] = \"/usr/lib/jvm/java-8-openjdk-amd64\"\n",
        "os.environ[\"SPARK_HOME\"] = \"spark-3.3.0-bin-hadoop3\""
      ],
      "metadata": {
        "id": "ZvAad61ugwa4"
      },
      "execution_count": 8,
      "outputs": []
    },
    {
      "cell_type": "code",
      "source": [
        "import findspark\n",
        "findspark.init()\n",
        "findspark.find()"
      ],
      "metadata": {
        "colab": {
          "base_uri": "https://localhost:8080/",
          "height": 35
        },
        "id": "9nJ8brMQg6B6",
        "outputId": "154385f1-9e0a-4a9d-aa51-02ec371367b5"
      },
      "execution_count": 11,
      "outputs": [
        {
          "output_type": "execute_result",
          "data": {
            "text/plain": [
              "'spark-3.3.0-bin-hadoop3'"
            ],
            "application/vnd.google.colaboratory.intrinsic+json": {
              "type": "string"
            }
          },
          "metadata": {},
          "execution_count": 11
        }
      ]
    },
    {
      "cell_type": "code",
      "source": [
        "from pyspark.sql import SparkSession\n",
        "spark = SparkSession.builder.master(\"local[*]\").getOrCreate()\n",
        "sc = spark.sparkContext\n",
        "sc"
      ],
      "metadata": {
        "colab": {
          "base_uri": "https://localhost:8080/",
          "height": 196
        },
        "id": "2kbsW9FMg0zw",
        "outputId": "aafc6e7d-d340-40d8-b5d8-4efa2d6d73fb"
      },
      "execution_count": 12,
      "outputs": [
        {
          "output_type": "execute_result",
          "data": {
            "text/plain": [
              "<SparkContext master=local[*] appName=pyspark-shell>"
            ],
            "text/html": [
              "\n",
              "        <div>\n",
              "            <p><b>SparkContext</b></p>\n",
              "\n",
              "            <p><a href=\"http://73f336c6e9fb:4040\">Spark UI</a></p>\n",
              "\n",
              "            <dl>\n",
              "              <dt>Version</dt>\n",
              "                <dd><code>v3.3.0</code></dd>\n",
              "              <dt>Master</dt>\n",
              "                <dd><code>local[*]</code></dd>\n",
              "              <dt>AppName</dt>\n",
              "                <dd><code>pyspark-shell</code></dd>\n",
              "            </dl>\n",
              "        </div>\n",
              "        "
            ]
          },
          "metadata": {},
          "execution_count": 12
        }
      ]
    },
    {
      "cell_type": "code",
      "source": [
        "from pyspark import SparkConf, SparkContext\n",
        "conf = SparkConf().setAppName(\"WordCount\")\n",
        "sc = SparkContext.getOrCreate(conf=conf)\n",
        "input_path = \"/content/drive/My Drive/Assignment2data/*.txt\"\n",
        "input_rdd = sc.wholeTextFiles(input_path).map(lambda x: x[1])\n",
        "words_rdd = input_rdd.flatMap(lambda line: line.split(\" \")).map(lambda word: word.lower())\n",
        "word_count_rdd = words_rdd.map(lambda word: (word, 1)).reduceByKey(lambda a, b: a + b)\n",
        "filtered_word_count_rdd = word_count_rdd.filter(lambda x: x[1] >= 3)\n",
        "total_word_count = filtered_word_count_rdd.count()\n",
        "print(\"Total size: \", total_word_count)\n"
      ],
      "metadata": {
        "colab": {
          "base_uri": "https://localhost:8080/"
        },
        "id": "Y0IPo8bCh09X",
        "outputId": "33bc0a01-149c-4e0a-b773-4b8e8ffe81d2"
      },
      "execution_count": 16,
      "outputs": [
        {
          "output_type": "stream",
          "name": "stdout",
          "text": [
            "Total size:  74\n"
          ]
        }
      ]
    },
    {
      "cell_type": "code",
      "source": [
        "from pyspark import SparkConf, SparkContext\n",
        "conf = SparkConf().setAppName(\"WordCount\")\n",
        "sc = SparkContext.getOrCreate(conf=conf)\n",
        "input_path = \"/content/drive/My Drive/Assignment2data/*.txt\"\n",
        "input_rdd = sc.wholeTextFiles(input_path).map(lambda x: x[1])\n",
        "words_rdd = input_rdd.flatMap(lambda line: line.split(\" \")).map(lambda word: word.lower())\n",
        "word_count_rdd = words_rdd.map(lambda word: (word, 1)).reduceByKey(lambda a, b: a + b)\n",
        "filtered_word_count_rdd = word_count_rdd.filter(lambda x: x[1] >= 3)\n",
        "most_frequent_words = filtered_word_count_rdd.takeOrdered(5, key=lambda x: -x[1])\n",
        "print(\"Most frequent words: \", most_frequent_words)\n"
      ],
      "metadata": {
        "colab": {
          "base_uri": "https://localhost:8080/"
        },
        "id": "Jrlq0QvZhi6L",
        "outputId": "9a1568a8-76bc-41b5-ecae-76f14028e636"
      },
      "execution_count": 15,
      "outputs": [
        {
          "output_type": "stream",
          "name": "stdout",
          "text": [
            "Most frequent words:  [('the', 76), ('to', 54), ('a', 40), ('and', 31), ('of', 29)]\n"
          ]
        }
      ]
    }
  ]
}